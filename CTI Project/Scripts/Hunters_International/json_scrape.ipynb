{
 "cells": [
  {
   "cell_type": "markdown",
   "metadata": {},
   "source": [
    "<marquee direction=\"right\" behavior=\"alternate\">For Hunters International</marquee>"
   ]
  },
  {
   "cell_type": "code",
   "execution_count": 1,
   "metadata": {},
   "outputs": [],
   "source": [
    "import json\n",
    "import os\n",
    "import csv\n",
    "import datetime"
   ]
  },
  {
   "cell_type": "markdown",
   "metadata": {},
   "source": [
    "The typings of JSON:\n",
    "```ts\n",
    "{\n",
    "    \"id\": \"1234\",\n",
    "    \"title\": \"Title\",\n",
    "    \"revenue\": Number,\n",
    "    \"employees\": Number,\n",
    "    \"country\": \"us\",\n",
    "    \"stocks\"?: list[string],\n",
    "    \"website\": \"https://xxx.com\",\n",
    "    \"exfiltrated_data\": true,\n",
    "    \"encrypted_data\": true,\n",
    "    \"updated_at\": 1725432547 (epoch timestamp)\n",
    "  },\n",
    "```"
   ]
  },
  {
   "cell_type": "code",
   "execution_count": 2,
   "metadata": {},
   "outputs": [],
   "source": [
    "COMPANIES_JSON_FILE = 'companies.json'\n",
    "DISCLOSURE_JSON_FILE = 'disclosures.json'\n",
    "\n",
    "\n",
    "CSV_FILE = 'hunters_international.csv'"
   ]
  },
  {
   "cell_type": "code",
   "execution_count": 3,
   "metadata": {},
   "outputs": [],
   "source": [
    "companies = json.load(open(COMPANIES_JSON_FILE, 'r'))\n",
    "disclosures = json.load(open(DISCLOSURE_JSON_FILE, 'r'))"
   ]
  },
  {
   "cell_type": "code",
   "execution_count": 4,
   "metadata": {},
   "outputs": [],
   "source": [
    "# For each disclosure, find the company that matches the id\n",
    "# And add disclosure[sum_total_size] to the company\n",
    "\n",
    "for company_id in disclosures:\n",
    "    for company in companies:\n",
    "        if company['id'] == company_id:\n",
    "            all_data = {}\n",
    "            data_type = [disclosure['title']\n",
    "                         for disclosure in disclosures[company_id]]\n",
    "\n",
    "            if (len(disclosures[company_id]) > 0):\n",
    "                total_size = disclosures[company_id][-1]['total_size']\n",
    "            else:\n",
    "                total_size = 'Undisclosed'\n",
    "\n",
    "            company['data_description'] = ', '.join(data_type)\n",
    "            company['data_volume'] = total_size\n",
    "            break\n",
    "\n",
    "# Write the companies to a new JSON File\n",
    "with open('full.json', 'w') as f:\n",
    "    json.dump(companies, f, indent=4)"
   ]
  },
  {
   "cell_type": "code",
   "execution_count": 8,
   "metadata": {},
   "outputs": [],
   "source": [
    "JSON_keys = ['id', 'title', 'revenue', 'employees',\n",
    "             'country', 'website', 'updated_at']\n",
    "\n",
    "\n",
    "CSV_headers = ['company name', 'date', 'country',\n",
    "               'revenue', 'industry', 'data volume', 'data description']\n",
    "\n",
    "with open('full.json', 'r') as f:\n",
    "    companies = json.load(f)\n",
    "\n",
    "# Turn these into csv\n",
    "with open(CSV_FILE, 'w', newline='') as f:\n",
    "    writer = csv.writer(f)\n",
    "    writer.writerow(CSV_headers)\n",
    "\n",
    "    for company in companies:\n",
    "        company_name = company['title']\n",
    "        date = datetime.datetime.fromtimestamp(\n",
    "            company['updated_at']).strftime('%Y-%m-%d %H:%M:%S')\n",
    "        country = company['country']\n",
    "        revenue = company['revenue']\n",
    "        industry = None\n",
    "        data_volume = company['data_volume']\n",
    "        data_description = company['data_description']\n",
    "\n",
    "        writer.writerow([company_name, date, country, revenue,\n",
    "                        industry, data_volume, data_description])"
   ]
  },
  {
   "cell_type": "code",
   "execution_count": 6,
   "metadata": {},
   "outputs": [
    {
     "name": "stdout",
     "output_type": "stream",
     "text": [
      "184\n"
     ]
    }
   ],
   "source": [
    "print(len(companies))"
   ]
  }
 ],
 "metadata": {
  "kernelspec": {
   "display_name": ".venv",
   "language": "python",
   "name": "python3"
  },
  "language_info": {
   "codemirror_mode": {
    "name": "ipython",
    "version": 3
   },
   "file_extension": ".py",
   "mimetype": "text/x-python",
   "name": "python",
   "nbconvert_exporter": "python",
   "pygments_lexer": "ipython3",
   "version": "3.10.9"
  }
 },
 "nbformat": 4,
 "nbformat_minor": 2
}
