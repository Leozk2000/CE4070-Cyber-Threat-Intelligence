{
 "cells": [
  {
   "cell_type": "code",
   "execution_count": 5,
   "metadata": {},
   "outputs": [],
   "source": [
    "import csv\n",
    "import datetime"
   ]
  },
  {
   "cell_type": "code",
   "execution_count": 34,
   "metadata": {},
   "outputs": [
    {
     "name": "stdout",
     "output_type": "stream",
     "text": [
      "{'Dismissed Or Closed)', 'Google', 'General Manager', 'Nda)', 'W-9 Forms', 'Sql', 'Balance Sheet', 'Circle K Atlanta', 'Clinical Research', 'Timo Steimer - Ceo', 'Audits', 'Fy2024Q1', \"Drivers' Information Database\", 'Employee Data', 'Project List And Budget', 'Compensation Agreement', 'C2 Cryoballoon', 'Drawings', 'Hr Docs', 'Sage', 'Medical', 'Dell', 'Lawsuits', 'Clients', 'Competitive Analysis', 'Information Technology', 'Employee Data And Business Data (Agreements', 'Hmjtc - Global R&D Injector System Design & Engineering Unit', 'Researches', 'Lockheed Martin', 'Research And Development', 'Active Employees', 'Business Development', 'Database', 'Private & Confidential', 'Gopro Development', 'Confidential Agreements', 'Pollution', 'It', 'Strictly Confidential', 'Hr Confidential Documentation', 'Contratos Social', 'Quickbooks Data', 'Confidential Formula', 'President', 'Tender Documents', 'Penetration Test Report', 'Personally Identifiable Information. Hr Database.', 'Exela Tech', 'Dima Ubcheva', 'Confidential Telecom Rfp Drawings & Specifications', 'Mercedes-Benz Office Drawings', 'Cyber Sec', 'Bosch Halo Mini', 'Agreement Samples', 'Sample', 'Sony', 'Samples', 'Toyota Security Guideline', 'Spacex', 'Kkapita', 'Part Ii', 'Hr', 'Samsung', 'Invoices', 'Employee List', 'Sql Backups', 'Confidential Agreement', 'Government', 'Finance', 'Medical Records', \"Employees' Personal Information\", 'Competitor Listing', 'Customer Agreements', 'Petrotech Pump', 'Sales', 'All Data (W/O Sql Backups)', 'Senior Manager', 'Lenovo', 'All Data', 'Electrical & Motor Drawings', 'Healthcare And Insurance', 'Development', 'Vice President', 'Manufacturing', 'Hewlett Packard', 'Project', 'Salaries', 'Kenya Urban Roads Authority', 'Proofs', 'Employee Medical & Background Check Records', 'Client Files', 'Technology', \"Drew Braum The Ceo Of Braum'S\", 'D601_Eplan2023', 'Lawsuits (Open & Settled', 'Cyber Attack 2022', 'Suppliers', 'Customers', 'Call Recordings', 'Ceo', \"Client'S Data\", 'Mail Dumps', 'Confidential', 'Drawnigs - Piping', 'Hazard Analysis', 'Cybersecurity', '3 Years Strategy Plan', 'Clinical Development Department', 'Information On Agents', 'Bosch', 'Personal Identifiable Information', 'Personal Information', 'Users_Data', 'Passports', 'Confidential Documents', 'Patent Application', 'Product Formula & Recipes', 'Contracts', 'Payment_Data', 'Users Data', 'Competitors', 'Network', 'Due Diligencies', 'Bancos', 'Subscribers Samples', 'Some Samples', 'Faxes', 'Insurance', 'Financial Information', 'Recovery Plans', '2024 Annual Plan', 'Offshore', 'Financial Reports', 'Requested Files', 'Encryption Dll Practice', 'Capital One & First United Bank & Nfcu Office Drawings', 'Hr Recruitment Specialist', 'Boarding Pass', 'All The Data', 'Private Accounting & Cfo', 'Personal Documents', 'Hr Manager', 'Hr Confidential', 'Fbi Contract', 'Company Data', 'Executives Mail Dumps', '2024 Contracts & Contractor Insurance', \"It Director'S Home Xxx-Videos\", 'Strategy', 'Part I', 'Engineering', 'Accounting', 'Personal Information Database', 'Compliance Certificates', 'Brokerage Statements', 'It Infrastructure', 'Cfo', 'Research', 'Blueprints + Drawings (.Dwg Files)', \"Crownlea Group Networks' Data Breach\", 'Sales Analysis', 'Insurance Companies', 'Employee Investigations', 'Banctec', 'Contacts', 'Alexander Georgiev', 'Voicemail Messages', 'Hazardous Waste', 'Employees', 'Mustafa Kichukov', 'Taxes', 'Top Management', 'Military', 'Corporate Governance And Disclosure Research Materials'}\n"
     ]
    }
   ],
   "source": [
    "STARTING_DATE = datetime.date(2024, 1, 1)\n",
    "END_DATE = datetime.date(2024, 8, 31)\n",
    "\n",
    "# Read csv file and filter out the dates\n",
    "with open('hunters_international.csv', 'r',) as f:\n",
    "    reader = csv.reader(f)\n",
    "    header = next(reader)\n",
    "\n",
    "    # Remove data out of range\n",
    "    filtered_rows = [row for row in reader if STARTING_DATE <=\n",
    "                     datetime.datetime.strptime(row[1], '%Y-%m-%d %H:%M:%S').date() <= END_DATE]\n",
    "\n",
    "    # Remove time from date\n",
    "    for row in filtered_rows:\n",
    "        row[1] = datetime.datetime.strptime(row[1], '%Y-%m-%d %H:%M:%S').date()\n",
    "\n",
    "    # Uppercase country\n",
    "    for row in filtered_rows:\n",
    "        row[2] = row[2].upper()\n",
    "\n",
    "    # For each data_description, split by ',' and make a new column for each so like one hot encoding\n",
    "    data_descriptions = set()\n",
    "    for row in filtered_rows:\n",
    "        # Add all data_descriptions to a set, separated by ',', and remove duplicates, trailing white space and whatever\n",
    "        data_descriptions.update([data.strip().title()\n",
    "                                 for data in row[-1].split(',')])\n",
    "\n",
    "    # Dropped empty data_description\n",
    "    data_descriptions.discard('')\n",
    "\n",
    "    print(data_descriptions)\n",
    "\n",
    "    # Replace header data_description with the new columns\n",
    "    header = header[:-1] + [data for data in data_descriptions]\n",
    "\n",
    "    # Add the various data_description to the row\n",
    "    for i, row in enumerate(filtered_rows):\n",
    "        data_description = [data.strip().title()\n",
    "                            for data in row[-1].split(',')]\n",
    "        filtered_rows[i] = row[:-1] + \\\n",
    "            ['1' if data in data_description else '0' for data in data_descriptions]\n",
    "\n",
    "    # Write the filtered dates to a new csv file\n",
    "    with open('hunters_international_filtered.csv', 'w', newline='') as f:\n",
    "        writer = csv.writer(f)\n",
    "        writer.writerow(header)\n",
    "        writer.writerows(filtered_rows)"
   ]
  },
  {
   "cell_type": "code",
   "execution_count": null,
   "metadata": {},
   "outputs": [],
   "source": []
  }
 ],
 "metadata": {
  "kernelspec": {
   "display_name": ".venv",
   "language": "python",
   "name": "python3"
  },
  "language_info": {
   "codemirror_mode": {
    "name": "ipython",
    "version": 3
   },
   "file_extension": ".py",
   "mimetype": "text/x-python",
   "name": "python",
   "nbconvert_exporter": "python",
   "pygments_lexer": "ipython3",
   "version": "3.10.9"
  }
 },
 "nbformat": 4,
 "nbformat_minor": 2
}
