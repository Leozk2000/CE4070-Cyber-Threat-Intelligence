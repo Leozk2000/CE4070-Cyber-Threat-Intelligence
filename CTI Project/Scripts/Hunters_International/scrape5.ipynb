{
 "cells": [
  {
   "cell_type": "code",
   "execution_count": 2,
   "metadata": {},
   "outputs": [],
   "source": [
    "import csv\n",
    "import country_converter as coco\n",
    "\n",
    "file_path = './hunters_international_filtered_categorized_industry.csv'\n",
    "new_path = './hunters_international_final.csv'"
   ]
  },
  {
   "cell_type": "code",
   "execution_count": 12,
   "metadata": {},
   "outputs": [],
   "source": [
    "def isInt(s):\n",
    "    try:\n",
    "        int(s)\n",
    "        return True\n",
    "    except ValueError:\n",
    "        return False"
   ]
  },
  {
   "cell_type": "code",
   "execution_count": 16,
   "metadata": {},
   "outputs": [
    {
     "name": "stderr",
     "output_type": "stream",
     "text": [
      " not found in regex\n"
     ]
    }
   ],
   "source": [
    "with open(file_path, 'r') as file:\n",
    "    reader = csv.reader(file)\n",
    "    rows = [row for row in reader]\n",
    "    countries = [row[2] for row in rows[1:]]\n",
    "    revenues = [row[3] for row in rows[1:]]\n",
    "    data_volumes = [row[5] for row in rows[1:]]\n",
    "\n",
    "    new_countries = coco.convert(\n",
    "        names=countries, to='name_short', not_found=None)\n",
    "    # converting to millions\n",
    "    new_revenue = [\n",
    "        int(revenue) // 1_000_000 if isInt(revenue) else '' for revenue in revenues]\n",
    "    # converting to GB\n",
    "    new_data_volume = [int(data_volume) //\n",
    "                       1_000_000_000 if isInt(data_volume) else '' for data_volume in data_volumes]\n",
    "\n",
    "    for i, row in enumerate(rows[1:]):\n",
    "        row[2] = new_countries[i]\n",
    "        row[3] = new_revenue[i]\n",
    "        row[5] = new_data_volume[i]\n",
    "\n",
    "    with open(new_path, 'w', newline='') as file:\n",
    "        writer = csv.writer(file)\n",
    "        writer.writerows(rows)"
   ]
  }
 ],
 "metadata": {
  "kernelspec": {
   "display_name": ".venv",
   "language": "python",
   "name": "python3"
  },
  "language_info": {
   "codemirror_mode": {
    "name": "ipython",
    "version": 3
   },
   "file_extension": ".py",
   "mimetype": "text/x-python",
   "name": "python",
   "nbconvert_exporter": "python",
   "pygments_lexer": "ipython3",
   "version": "3.10.9"
  }
 },
 "nbformat": 4,
 "nbformat_minor": 2
}
